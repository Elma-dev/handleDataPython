{
 "cells": [
  {
   "cell_type": "markdown",
   "id": "879dbb6a",
   "metadata": {},
   "source": [
    "# Required Package"
   ]
  },
  {
   "cell_type": "code",
   "execution_count": 4,
   "id": "94db768a",
   "metadata": {},
   "outputs": [],
   "source": [
    "import pandas as pd\n",
    "import requests\n",
    "from IPython.display import display"
   ]
  },
  {
   "cell_type": "markdown",
   "id": "5bfa156f",
   "metadata": {},
   "source": [
    "# About this NoteBook"
   ]
  },
  {
   "cell_type": "markdown",
   "id": "6413516a",
   "metadata": {},
   "source": [
    "---\n",
    "\n",
    "In this noteBook we try to create a fonction help us to get data from an API using several methods in requests package as **post**/**get**\n",
    "\n",
    "**API**: http://universities.hipolabs.com/search?country=united%20states\n",
    "\n",
    "\n",
    "\n",
    "---"
   ]
  },
  {
   "cell_type": "code",
   "execution_count": 61,
   "id": "4ba32bc7",
   "metadata": {},
   "outputs": [],
   "source": [
    "def getStatus(country):\n",
    "    req=requests.get(f'http://universities.hipolabs.com/search?country={country.lower().replace(\" \",\"%20\")}')\n",
    "    info={\"status\":req.status_code,\"request\":req}\n",
    "    return info"
   ]
  },
  {
   "cell_type": "code",
   "execution_count": 62,
   "id": "06d2478f",
   "metadata": {},
   "outputs": [
    {
     "data": {
      "text/plain": [
       "{'status': 200, 'request': <Response [200]>}"
      ]
     },
     "execution_count": 62,
     "metadata": {},
     "output_type": "execute_result"
    }
   ],
   "source": [
    "getStatus(\"United States\")"
   ]
  },
  {
   "cell_type": "code",
   "execution_count": 63,
   "id": "428fe732",
   "metadata": {},
   "outputs": [],
   "source": [
    "def getJson(apiReq):\n",
    "    return apiReq.json()"
   ]
  },
  {
   "cell_type": "code",
   "execution_count": 67,
   "id": "08ca8311",
   "metadata": {},
   "outputs": [
    {
     "data": {
      "text/plain": [
       "{'country': 'United States',\n",
       " 'domains': ['marywood.edu'],\n",
       " 'alpha_two_code': 'US',\n",
       " 'state-province': None,\n",
       " 'web_pages': ['http://www.marywood.edu'],\n",
       " 'name': 'Marywood University'}"
      ]
     },
     "execution_count": 67,
     "metadata": {},
     "output_type": "execute_result"
    }
   ],
   "source": [
    "stat,req=getStatus(\"United States\").values()\n",
    "getJson(req)[0]"
   ]
  },
  {
   "cell_type": "code",
   "execution_count": 68,
   "id": "8913e990",
   "metadata": {},
   "outputs": [],
   "source": [
    "def getData(country):\n",
    "    stat,req=getStatus(country).values()\n",
    "    error=False\n",
    "    if stat!=200:\n",
    "        error=True\n",
    "    jsonData=getJson(apiReq=req)\n",
    "    try:\n",
    "        if error:\n",
    "            raise Exception()\n",
    "        #create Data Frames \n",
    "        df=pd.DataFrame()\n",
    "        for k in jsonData[0].keys():\n",
    "            df[k]=[row[k] for row in jsonData]\n",
    "    except:\n",
    "        return \"No Data Found!!!\"\n",
    "    else:\n",
    "        return df"
   ]
  },
  {
   "cell_type": "code",
   "execution_count": 69,
   "id": "28e9183b",
   "metadata": {},
   "outputs": [
    {
     "data": {
      "text/html": [
       "<div>\n",
       "<style scoped>\n",
       "    .dataframe tbody tr th:only-of-type {\n",
       "        vertical-align: middle;\n",
       "    }\n",
       "\n",
       "    .dataframe tbody tr th {\n",
       "        vertical-align: top;\n",
       "    }\n",
       "\n",
       "    .dataframe thead th {\n",
       "        text-align: right;\n",
       "    }\n",
       "</style>\n",
       "<table border=\"1\" class=\"dataframe\">\n",
       "  <thead>\n",
       "    <tr style=\"text-align: right;\">\n",
       "      <th></th>\n",
       "      <th>country</th>\n",
       "      <th>domains</th>\n",
       "      <th>alpha_two_code</th>\n",
       "      <th>state-province</th>\n",
       "      <th>web_pages</th>\n",
       "      <th>name</th>\n",
       "    </tr>\n",
       "  </thead>\n",
       "  <tbody>\n",
       "    <tr>\n",
       "      <th>0</th>\n",
       "      <td>United States</td>\n",
       "      <td>[marywood.edu]</td>\n",
       "      <td>US</td>\n",
       "      <td>None</td>\n",
       "      <td>[http://www.marywood.edu]</td>\n",
       "      <td>Marywood University</td>\n",
       "    </tr>\n",
       "    <tr>\n",
       "      <th>1</th>\n",
       "      <td>United States</td>\n",
       "      <td>[lindenwood.edu]</td>\n",
       "      <td>US</td>\n",
       "      <td>None</td>\n",
       "      <td>[http://www.lindenwood.edu/]</td>\n",
       "      <td>Lindenwood University</td>\n",
       "    </tr>\n",
       "    <tr>\n",
       "      <th>2</th>\n",
       "      <td>United States</td>\n",
       "      <td>[sullivan.edu]</td>\n",
       "      <td>US</td>\n",
       "      <td>None</td>\n",
       "      <td>[https://sullivan.edu/]</td>\n",
       "      <td>Sullivan University</td>\n",
       "    </tr>\n",
       "    <tr>\n",
       "      <th>3</th>\n",
       "      <td>United States</td>\n",
       "      <td>[fscj.edu]</td>\n",
       "      <td>US</td>\n",
       "      <td>None</td>\n",
       "      <td>[https://www.fscj.edu/]</td>\n",
       "      <td>Florida State College at Jacksonville</td>\n",
       "    </tr>\n",
       "    <tr>\n",
       "      <th>4</th>\n",
       "      <td>United States</td>\n",
       "      <td>[xavier.edu]</td>\n",
       "      <td>US</td>\n",
       "      <td>None</td>\n",
       "      <td>[https://www.xavier.edu/]</td>\n",
       "      <td>Xavier University</td>\n",
       "    </tr>\n",
       "    <tr>\n",
       "      <th>...</th>\n",
       "      <td>...</td>\n",
       "      <td>...</td>\n",
       "      <td>...</td>\n",
       "      <td>...</td>\n",
       "      <td>...</td>\n",
       "      <td>...</td>\n",
       "    </tr>\n",
       "    <tr>\n",
       "      <th>4530</th>\n",
       "      <td>United States</td>\n",
       "      <td>[csu.edu]</td>\n",
       "      <td>US</td>\n",
       "      <td>None</td>\n",
       "      <td>[https://csu.edu]</td>\n",
       "      <td>Chicago State University</td>\n",
       "    </tr>\n",
       "    <tr>\n",
       "      <th>4531</th>\n",
       "      <td>United States</td>\n",
       "      <td>[csupueblo.edu]</td>\n",
       "      <td>US</td>\n",
       "      <td>None</td>\n",
       "      <td>[https://csupueblo.edu]</td>\n",
       "      <td>Colorado State University-Pueblo</td>\n",
       "    </tr>\n",
       "    <tr>\n",
       "      <th>4532</th>\n",
       "      <td>United States</td>\n",
       "      <td>[bau.edu]</td>\n",
       "      <td>US</td>\n",
       "      <td>None</td>\n",
       "      <td>[https://bau.edu/]</td>\n",
       "      <td>Bay Atlantic University</td>\n",
       "    </tr>\n",
       "    <tr>\n",
       "      <th>4533</th>\n",
       "      <td>United States</td>\n",
       "      <td>[siena.edu]</td>\n",
       "      <td>US</td>\n",
       "      <td>None</td>\n",
       "      <td>[https://www.siena.edu/]</td>\n",
       "      <td>Siena College</td>\n",
       "    </tr>\n",
       "    <tr>\n",
       "      <th>4534</th>\n",
       "      <td>United States</td>\n",
       "      <td>[txwes.edu]</td>\n",
       "      <td>US</td>\n",
       "      <td>None</td>\n",
       "      <td>[https://txwes.edu/]</td>\n",
       "      <td>Texas Wesleyan University</td>\n",
       "    </tr>\n",
       "  </tbody>\n",
       "</table>\n",
       "<p>4535 rows × 6 columns</p>\n",
       "</div>"
      ],
      "text/plain": [
       "            country           domains alpha_two_code state-province  \\\n",
       "0     United States    [marywood.edu]             US           None   \n",
       "1     United States  [lindenwood.edu]             US           None   \n",
       "2     United States    [sullivan.edu]             US           None   \n",
       "3     United States        [fscj.edu]             US           None   \n",
       "4     United States      [xavier.edu]             US           None   \n",
       "...             ...               ...            ...            ...   \n",
       "4530  United States         [csu.edu]             US           None   \n",
       "4531  United States   [csupueblo.edu]             US           None   \n",
       "4532  United States         [bau.edu]             US           None   \n",
       "4533  United States       [siena.edu]             US           None   \n",
       "4534  United States       [txwes.edu]             US           None   \n",
       "\n",
       "                         web_pages                                   name  \n",
       "0        [http://www.marywood.edu]                    Marywood University  \n",
       "1     [http://www.lindenwood.edu/]                  Lindenwood University  \n",
       "2          [https://sullivan.edu/]                    Sullivan University  \n",
       "3          [https://www.fscj.edu/]  Florida State College at Jacksonville  \n",
       "4        [https://www.xavier.edu/]                      Xavier University  \n",
       "...                            ...                                    ...  \n",
       "4530             [https://csu.edu]               Chicago State University  \n",
       "4531       [https://csupueblo.edu]       Colorado State University-Pueblo  \n",
       "4532            [https://bau.edu/]                Bay Atlantic University  \n",
       "4533      [https://www.siena.edu/]                          Siena College  \n",
       "4534          [https://txwes.edu/]              Texas Wesleyan University  \n",
       "\n",
       "[4535 rows x 6 columns]"
      ]
     },
     "execution_count": 69,
     "metadata": {},
     "output_type": "execute_result"
    }
   ],
   "source": [
    "getData(\"United States\")"
   ]
  },
  {
   "cell_type": "code",
   "execution_count": null,
   "id": "74539269",
   "metadata": {},
   "outputs": [],
   "source": []
  }
 ],
 "metadata": {
  "kernelspec": {
   "display_name": "Python 3 (ipykernel)",
   "language": "python",
   "name": "python3"
  },
  "language_info": {
   "codemirror_mode": {
    "name": "ipython",
    "version": 3
   },
   "file_extension": ".py",
   "mimetype": "text/x-python",
   "name": "python",
   "nbconvert_exporter": "python",
   "pygments_lexer": "ipython3",
   "version": "3.10.9"
  }
 },
 "nbformat": 4,
 "nbformat_minor": 5
}
